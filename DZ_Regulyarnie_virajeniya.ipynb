{
 "cells": [
  {
   "cell_type": "code",
   "execution_count": 178,
   "metadata": {},
   "outputs": [],
   "source": [
    "import re"
   ]
  },
  {
   "cell_type": "code",
   "execution_count": 179,
   "metadata": {},
   "outputs": [
    {
     "name": "stdout",
     "output_type": "stream",
     "text": [
      "Результат: Номер А222ВС96 валиден. Регион: 96\n"
     ]
    }
   ],
   "source": [
    "# Задание 1  \n",
    "\n",
    "def number(car_id):\n",
    "    res = re.findall(r'\\d{2,3}$', car_id)\n",
    "    if re.findall(r'[АВЕКМНОРСТУХ]{1}\\d{3}[АВЕКМНОРСТУХ]{2}\\d{2,3}', car_id):\n",
    "        print(f'Результат: Номер {car_id} валиден. Регион: {res[0]}')\n",
    "    else:\n",
    "        print(f'Результат: Номер не валиден.')\n",
    "    #     print(result, type)\n",
    "    \n",
    "number('А222ВС96')"
   ]
  },
  {
   "cell_type": "code",
   "execution_count": 180,
   "metadata": {},
   "outputs": [
    {
     "data": {
      "text/plain": [
       "'Напишите функцию, которая будет удалять все последовательные повторы слов из заданной строки при помощи регулярных выражений.'"
      ]
     },
     "execution_count": 180,
     "metadata": {},
     "output_type": "execute_result"
    }
   ],
   "source": [
    "# Задение 2\n",
    "\n",
    "some_string = 'Напишите функцию функцию, которая будет будет будет будет удалять все все все все последовательные повторы слов из из из из заданной строки строки при помощи регулярных выражений.'\n",
    "\n",
    "find_pattern = r'\\b([^\\W\\d_]+)(\\s+\\1)+\\b'\n",
    "re.sub(find_pattern, r'\\1', some_string)"
   ]
  },
  {
   "cell_type": "code",
   "execution_count": 181,
   "metadata": {},
   "outputs": [
    {
     "name": "stdout",
     "output_type": "stream",
     "text": [
      "N\n",
      "F\n",
      "C\n"
     ]
    }
   ],
   "source": [
    "# Задение 3\n",
    "\n",
    "some_words = 'Near Field Communication'\n",
    "\n",
    "find_pattern = r'\\b([^\\W\\d_]+)'\n",
    "res = []\n",
    "for element in re.findall(find_pattern, some_words):\n",
    "    res += re.findall(r'^(\\w{1})', element)\n",
    "    print(res[-1])"
   ]
  },
  {
   "cell_type": "code",
   "execution_count": 186,
   "metadata": {},
   "outputs": [
    {
     "ename": "KeyError",
     "evalue": "'mail.ru'",
     "output_type": "error",
     "traceback": [
      "\u001b[1;31m---------------------------------------------------------------------------\u001b[0m",
      "\u001b[1;31mKeyError\u001b[0m                                  Traceback (most recent call last)",
      "\u001b[1;32m<ipython-input-186-ccbf0de6a282>\u001b[0m in \u001b[0;36m<module>\u001b[1;34m\u001b[0m\n\u001b[0;32m      5\u001b[0m \u001b[0mresalt\u001b[0m \u001b[1;33m=\u001b[0m \u001b[1;33m{\u001b[0m\u001b[1;33m}\u001b[0m\u001b[1;33m\u001b[0m\u001b[1;33m\u001b[0m\u001b[0m\n\u001b[0;32m      6\u001b[0m \u001b[1;32mfor\u001b[0m \u001b[0melement\u001b[0m \u001b[1;32min\u001b[0m \u001b[0memails\u001b[0m\u001b[1;33m:\u001b[0m\u001b[1;33m\u001b[0m\u001b[1;33m\u001b[0m\u001b[0m\n\u001b[1;32m----> 7\u001b[1;33m     \u001b[1;32mif\u001b[0m \u001b[0mre\u001b[0m\u001b[1;33m.\u001b[0m\u001b[0mfindall\u001b[0m\u001b[1;33m(\u001b[0m\u001b[1;34mr'\\w+@mail.ru'\u001b[0m\u001b[1;33m,\u001b[0m \u001b[0melement\u001b[0m\u001b[1;33m)\u001b[0m \u001b[1;32mand\u001b[0m \u001b[0mresalt\u001b[0m\u001b[1;33m[\u001b[0m\u001b[1;34m'mail.ru'\u001b[0m\u001b[1;33m]\u001b[0m \u001b[1;32mnot\u001b[0m \u001b[1;32min\u001b[0m \u001b[0mresalt\u001b[0m\u001b[1;33m:\u001b[0m\u001b[1;33m\u001b[0m\u001b[1;33m\u001b[0m\u001b[0m\n\u001b[0m\u001b[0;32m      8\u001b[0m         \u001b[0mresalt\u001b[0m\u001b[1;33m[\u001b[0m\u001b[1;34m'mail.ru'\u001b[0m\u001b[1;33m]\u001b[0m \u001b[1;33m=\u001b[0m \u001b[1;36m1\u001b[0m\u001b[1;33m\u001b[0m\u001b[1;33m\u001b[0m\u001b[0m\n\u001b[0;32m      9\u001b[0m     \u001b[1;32melse\u001b[0m\u001b[1;33m:\u001b[0m\u001b[1;33m\u001b[0m\u001b[1;33m\u001b[0m\u001b[0m\n",
      "\u001b[1;31mKeyError\u001b[0m: 'mail.ru'"
     ]
    }
   ],
   "source": [
    "# Задание 4 Не нашла другого решения, а так ему не нравятся ключи\n",
    "emails = ['test@mail.ru', 'xyz@test.in', 'test@ya.ru', 'xyz@mail.ru', 'xyz@ya.ru', 'xyz@mail.ru']\n",
    "\n",
    "resalt = {}\n",
    "for element in emails:\n",
    "    if re.findall(r'\\w+@mail.ru', element) and resalt['mail.ru'] not in resalt:\n",
    "        resalt['mail.ru'] = 1\n",
    "    else:\n",
    "        resalt['mail.ru'] += 1\n",
    "\n",
    "           \n",
    "    print(resalt)    "
   ]
  },
  {
   "cell_type": "code",
   "execution_count": null,
   "metadata": {},
   "outputs": [],
   "source": []
  }
 ],
 "metadata": {
  "kernelspec": {
   "display_name": "Python 3",
   "language": "python",
   "name": "python3"
  },
  "language_info": {
   "codemirror_mode": {
    "name": "ipython",
    "version": 3
   },
   "file_extension": ".py",
   "mimetype": "text/x-python",
   "name": "python",
   "nbconvert_exporter": "python",
   "pygments_lexer": "ipython3",
   "version": "3.8.3"
  }
 },
 "nbformat": 4,
 "nbformat_minor": 4
}
