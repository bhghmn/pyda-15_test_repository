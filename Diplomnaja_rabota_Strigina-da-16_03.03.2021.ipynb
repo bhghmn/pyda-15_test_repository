{
 "cells": [
  {
   "cell_type": "code",
   "execution_count": 1,
   "metadata": {},
   "outputs": [],
   "source": [
    "import pandas as pd\n",
    "import numpy as np\n",
    "import matplotlib.pyplot as plt\n",
    "import seaborn as sns\n",
    "import sklearn as sklearn"
   ]
  },
  {
   "cell_type": "code",
   "execution_count": 2,
   "metadata": {},
   "outputs": [
    {
     "data": {
      "text/html": [
       "<div>\n",
       "<style scoped>\n",
       "    .dataframe tbody tr th:only-of-type {\n",
       "        vertical-align: middle;\n",
       "    }\n",
       "\n",
       "    .dataframe tbody tr th {\n",
       "        vertical-align: top;\n",
       "    }\n",
       "\n",
       "    .dataframe thead th {\n",
       "        text-align: right;\n",
       "    }\n",
       "</style>\n",
       "<table border=\"1\" class=\"dataframe\">\n",
       "  <thead>\n",
       "    <tr style=\"text-align: right;\">\n",
       "      <th></th>\n",
       "      <th>Surgery</th>\n",
       "      <th>Age</th>\n",
       "      <th>Hospital number</th>\n",
       "      <th>Rectal_temperature</th>\n",
       "      <th>Puls</th>\n",
       "      <th>Respiratory_rate</th>\n",
       "      <th>Temperature_extremities</th>\n",
       "      <th>Peripheral pulse</th>\n",
       "      <th>Mucous membranes</th>\n",
       "      <th>Capillary refill time</th>\n",
       "      <th>...</th>\n",
       "      <th>Packed cell volume</th>\n",
       "      <th>Total protein</th>\n",
       "      <th>Abdominocentesis appearance</th>\n",
       "      <th>Abdomcentesis total protein</th>\n",
       "      <th>Outcome</th>\n",
       "      <th>Surgical lesion</th>\n",
       "      <th>25</th>\n",
       "      <th>26</th>\n",
       "      <th>27</th>\n",
       "      <th>Cp_data</th>\n",
       "    </tr>\n",
       "  </thead>\n",
       "  <tbody>\n",
       "    <tr>\n",
       "      <th>0</th>\n",
       "      <td>2.0</td>\n",
       "      <td>1</td>\n",
       "      <td>530101</td>\n",
       "      <td>38.5</td>\n",
       "      <td>66.0</td>\n",
       "      <td>28.0</td>\n",
       "      <td>3.0</td>\n",
       "      <td>3.0</td>\n",
       "      <td>NaN</td>\n",
       "      <td>2.0</td>\n",
       "      <td>...</td>\n",
       "      <td>45.0</td>\n",
       "      <td>8.4</td>\n",
       "      <td>NaN</td>\n",
       "      <td>NaN</td>\n",
       "      <td>2.0</td>\n",
       "      <td>2</td>\n",
       "      <td>11300</td>\n",
       "      <td>0</td>\n",
       "      <td>0</td>\n",
       "      <td>2</td>\n",
       "    </tr>\n",
       "    <tr>\n",
       "      <th>1</th>\n",
       "      <td>1.0</td>\n",
       "      <td>1</td>\n",
       "      <td>534817</td>\n",
       "      <td>39.2</td>\n",
       "      <td>88.0</td>\n",
       "      <td>20.0</td>\n",
       "      <td>NaN</td>\n",
       "      <td>NaN</td>\n",
       "      <td>4.0</td>\n",
       "      <td>1.0</td>\n",
       "      <td>...</td>\n",
       "      <td>50.0</td>\n",
       "      <td>85.0</td>\n",
       "      <td>2.0</td>\n",
       "      <td>2.0</td>\n",
       "      <td>3.0</td>\n",
       "      <td>2</td>\n",
       "      <td>2208</td>\n",
       "      <td>0</td>\n",
       "      <td>0</td>\n",
       "      <td>2</td>\n",
       "    </tr>\n",
       "    <tr>\n",
       "      <th>2</th>\n",
       "      <td>2.0</td>\n",
       "      <td>1</td>\n",
       "      <td>530334</td>\n",
       "      <td>38.3</td>\n",
       "      <td>40.0</td>\n",
       "      <td>24.0</td>\n",
       "      <td>1.0</td>\n",
       "      <td>1.0</td>\n",
       "      <td>3.0</td>\n",
       "      <td>1.0</td>\n",
       "      <td>...</td>\n",
       "      <td>33.0</td>\n",
       "      <td>6.7</td>\n",
       "      <td>NaN</td>\n",
       "      <td>NaN</td>\n",
       "      <td>1.0</td>\n",
       "      <td>2</td>\n",
       "      <td>0</td>\n",
       "      <td>0</td>\n",
       "      <td>0</td>\n",
       "      <td>1</td>\n",
       "    </tr>\n",
       "    <tr>\n",
       "      <th>3</th>\n",
       "      <td>1.0</td>\n",
       "      <td>9</td>\n",
       "      <td>5290409</td>\n",
       "      <td>39.1</td>\n",
       "      <td>164.0</td>\n",
       "      <td>84.0</td>\n",
       "      <td>4.0</td>\n",
       "      <td>1.0</td>\n",
       "      <td>6.0</td>\n",
       "      <td>2.0</td>\n",
       "      <td>...</td>\n",
       "      <td>48.0</td>\n",
       "      <td>7.2</td>\n",
       "      <td>3.0</td>\n",
       "      <td>5.3</td>\n",
       "      <td>2.0</td>\n",
       "      <td>1</td>\n",
       "      <td>2208</td>\n",
       "      <td>0</td>\n",
       "      <td>0</td>\n",
       "      <td>1</td>\n",
       "    </tr>\n",
       "    <tr>\n",
       "      <th>4</th>\n",
       "      <td>2.0</td>\n",
       "      <td>1</td>\n",
       "      <td>530255</td>\n",
       "      <td>37.3</td>\n",
       "      <td>104.0</td>\n",
       "      <td>35.0</td>\n",
       "      <td>NaN</td>\n",
       "      <td>NaN</td>\n",
       "      <td>6.0</td>\n",
       "      <td>2.0</td>\n",
       "      <td>...</td>\n",
       "      <td>74.0</td>\n",
       "      <td>7.4</td>\n",
       "      <td>NaN</td>\n",
       "      <td>NaN</td>\n",
       "      <td>2.0</td>\n",
       "      <td>2</td>\n",
       "      <td>4300</td>\n",
       "      <td>0</td>\n",
       "      <td>0</td>\n",
       "      <td>2</td>\n",
       "    </tr>\n",
       "  </tbody>\n",
       "</table>\n",
       "<p>5 rows × 28 columns</p>\n",
       "</div>"
      ],
      "text/plain": [
       "   Surgery  Age  Hospital number  Rectal_temperature   Puls  Respiratory_rate  \\\n",
       "0      2.0    1           530101                38.5   66.0              28.0   \n",
       "1      1.0    1           534817                39.2   88.0              20.0   \n",
       "2      2.0    1           530334                38.3   40.0              24.0   \n",
       "3      1.0    9          5290409                39.1  164.0              84.0   \n",
       "4      2.0    1           530255                37.3  104.0              35.0   \n",
       "\n",
       "   Temperature_extremities  Peripheral pulse  Mucous membranes  \\\n",
       "0                      3.0               3.0               NaN   \n",
       "1                      NaN               NaN               4.0   \n",
       "2                      1.0               1.0               3.0   \n",
       "3                      4.0               1.0               6.0   \n",
       "4                      NaN               NaN               6.0   \n",
       "\n",
       "   Capillary refill time  ...  Packed cell volume  Total protein  \\\n",
       "0                    2.0  ...                45.0            8.4   \n",
       "1                    1.0  ...                50.0           85.0   \n",
       "2                    1.0  ...                33.0            6.7   \n",
       "3                    2.0  ...                48.0            7.2   \n",
       "4                    2.0  ...                74.0            7.4   \n",
       "\n",
       "   Abdominocentesis appearance  Abdomcentesis total protein  Outcome  \\\n",
       "0                          NaN                          NaN      2.0   \n",
       "1                          2.0                          2.0      3.0   \n",
       "2                          NaN                          NaN      1.0   \n",
       "3                          3.0                          5.3      2.0   \n",
       "4                          NaN                          NaN      2.0   \n",
       "\n",
       "   Surgical lesion     25  26  27  Cp_data  \n",
       "0                2  11300   0   0        2  \n",
       "1                2   2208   0   0        2  \n",
       "2                2      0   0   0        1  \n",
       "3                1   2208   0   0        1  \n",
       "4                2   4300   0   0        2  \n",
       "\n",
       "[5 rows x 28 columns]"
      ]
     },
     "execution_count": 2,
     "metadata": {},
     "output_type": "execute_result"
    }
   ],
   "source": [
    "# Загружаем данные из файла, присвоив названия заголовкам таблицы, заменив символ \"?\" на NaN\n",
    "DataLabels = ['Surgery', 'Age', 'Hospital number','Rectal_temperature', 'Puls','Respiratory_rate', 'Temperature_extremities', 'Peripheral pulse', 'Mucous membranes', 'Capillary refill time', 'Pain', 'Perestalsis', 'Abdominal distension', 'Nasogastric tube', 'Nasogastric reflux', 'Nasogastric reflux PH', 'Rectal examination', 'Abdomen', 'Packed cell volume', 'Total protein', 'Abdominocentesis appearance', 'Abdomcentesis total protein', 'Outcome', 'Surgical lesion', '25', '26', '27', 'Cp_data']\n",
    "fail = pd.read_csv('horse_data.csv', names = DataLabels, sep = ',', header=None, na_values=[\"?\"])\n",
    "fail.head()"
   ]
  },
  {
   "cell_type": "code",
   "execution_count": 3,
   "metadata": {},
   "outputs": [
    {
     "name": "stdout",
     "output_type": "stream",
     "text": [
      "<class 'pandas.core.frame.DataFrame'>\n",
      "RangeIndex: 300 entries, 0 to 299\n",
      "Data columns (total 28 columns):\n",
      " #   Column                       Non-Null Count  Dtype  \n",
      "---  ------                       --------------  -----  \n",
      " 0   Surgery                      299 non-null    float64\n",
      " 1   Age                          300 non-null    int64  \n",
      " 2   Hospital number              300 non-null    int64  \n",
      " 3   Rectal_temperature           240 non-null    float64\n",
      " 4   Puls                         276 non-null    float64\n",
      " 5   Respiratory_rate             242 non-null    float64\n",
      " 6   Temperature_extremities      244 non-null    float64\n",
      " 7   Peripheral pulse             231 non-null    float64\n",
      " 8   Mucous membranes             253 non-null    float64\n",
      " 9   Capillary refill time        268 non-null    float64\n",
      " 10  Pain                         245 non-null    float64\n",
      " 11  Perestalsis                  256 non-null    float64\n",
      " 12  Abdominal distension         244 non-null    float64\n",
      " 13  Nasogastric tube             196 non-null    float64\n",
      " 14  Nasogastric reflux           194 non-null    float64\n",
      " 15  Nasogastric reflux PH        53 non-null     float64\n",
      " 16  Rectal examination           198 non-null    float64\n",
      " 17  Abdomen                      182 non-null    float64\n",
      " 18  Packed cell volume           271 non-null    float64\n",
      " 19  Total protein                267 non-null    float64\n",
      " 20  Abdominocentesis appearance  135 non-null    float64\n",
      " 21  Abdomcentesis total protein  102 non-null    float64\n",
      " 22  Outcome                      299 non-null    float64\n",
      " 23  Surgical lesion              300 non-null    int64  \n",
      " 24  25                           300 non-null    int64  \n",
      " 25  26                           300 non-null    int64  \n",
      " 26  27                           300 non-null    int64  \n",
      " 27  Cp_data                      300 non-null    int64  \n",
      "dtypes: float64(21), int64(7)\n",
      "memory usage: 65.8 KB\n"
     ]
    }
   ],
   "source": [
    "fail.info()"
   ]
  },
  {
   "cell_type": "code",
   "execution_count": 4,
   "metadata": {},
   "outputs": [
    {
     "data": {
      "text/html": [
       "<div>\n",
       "<style scoped>\n",
       "    .dataframe tbody tr th:only-of-type {\n",
       "        vertical-align: middle;\n",
       "    }\n",
       "\n",
       "    .dataframe tbody tr th {\n",
       "        vertical-align: top;\n",
       "    }\n",
       "\n",
       "    .dataframe thead th {\n",
       "        text-align: right;\n",
       "    }\n",
       "</style>\n",
       "<table border=\"1\" class=\"dataframe\">\n",
       "  <thead>\n",
       "    <tr style=\"text-align: right;\">\n",
       "      <th></th>\n",
       "      <th>Surgery</th>\n",
       "      <th>Age</th>\n",
       "      <th>Hospital number</th>\n",
       "      <th>Rectal_temperature</th>\n",
       "      <th>Puls</th>\n",
       "      <th>Respiratory_rate</th>\n",
       "      <th>Temperature_extremities</th>\n",
       "      <th>Peripheral pulse</th>\n",
       "      <th>Mucous membranes</th>\n",
       "      <th>Capillary refill time</th>\n",
       "      <th>...</th>\n",
       "      <th>Packed cell volume</th>\n",
       "      <th>Total protein</th>\n",
       "      <th>Abdominocentesis appearance</th>\n",
       "      <th>Abdomcentesis total protein</th>\n",
       "      <th>Outcome</th>\n",
       "      <th>Surgical lesion</th>\n",
       "      <th>25</th>\n",
       "      <th>26</th>\n",
       "      <th>27</th>\n",
       "      <th>Cp_data</th>\n",
       "    </tr>\n",
       "  </thead>\n",
       "  <tbody>\n",
       "    <tr>\n",
       "      <th>0</th>\n",
       "      <td>2.0</td>\n",
       "      <td>1</td>\n",
       "      <td>530101</td>\n",
       "      <td>38.5</td>\n",
       "      <td>66.0</td>\n",
       "      <td>28.0</td>\n",
       "      <td>3.0</td>\n",
       "      <td>3.0</td>\n",
       "      <td>NaN</td>\n",
       "      <td>2.0</td>\n",
       "      <td>...</td>\n",
       "      <td>45.0</td>\n",
       "      <td>8.4</td>\n",
       "      <td>NaN</td>\n",
       "      <td>NaN</td>\n",
       "      <td>2.0</td>\n",
       "      <td>2</td>\n",
       "      <td>11300</td>\n",
       "      <td>0</td>\n",
       "      <td>0</td>\n",
       "      <td>2</td>\n",
       "    </tr>\n",
       "    <tr>\n",
       "      <th>1</th>\n",
       "      <td>1.0</td>\n",
       "      <td>1</td>\n",
       "      <td>534817</td>\n",
       "      <td>39.2</td>\n",
       "      <td>88.0</td>\n",
       "      <td>20.0</td>\n",
       "      <td>NaN</td>\n",
       "      <td>NaN</td>\n",
       "      <td>4.0</td>\n",
       "      <td>1.0</td>\n",
       "      <td>...</td>\n",
       "      <td>50.0</td>\n",
       "      <td>85.0</td>\n",
       "      <td>2.0</td>\n",
       "      <td>2.0</td>\n",
       "      <td>3.0</td>\n",
       "      <td>2</td>\n",
       "      <td>2208</td>\n",
       "      <td>0</td>\n",
       "      <td>0</td>\n",
       "      <td>2</td>\n",
       "    </tr>\n",
       "    <tr>\n",
       "      <th>2</th>\n",
       "      <td>2.0</td>\n",
       "      <td>1</td>\n",
       "      <td>530334</td>\n",
       "      <td>38.3</td>\n",
       "      <td>40.0</td>\n",
       "      <td>24.0</td>\n",
       "      <td>1.0</td>\n",
       "      <td>1.0</td>\n",
       "      <td>3.0</td>\n",
       "      <td>1.0</td>\n",
       "      <td>...</td>\n",
       "      <td>33.0</td>\n",
       "      <td>6.7</td>\n",
       "      <td>NaN</td>\n",
       "      <td>NaN</td>\n",
       "      <td>1.0</td>\n",
       "      <td>2</td>\n",
       "      <td>0</td>\n",
       "      <td>0</td>\n",
       "      <td>0</td>\n",
       "      <td>1</td>\n",
       "    </tr>\n",
       "    <tr>\n",
       "      <th>3</th>\n",
       "      <td>1.0</td>\n",
       "      <td>9</td>\n",
       "      <td>5290409</td>\n",
       "      <td>39.1</td>\n",
       "      <td>164.0</td>\n",
       "      <td>84.0</td>\n",
       "      <td>4.0</td>\n",
       "      <td>1.0</td>\n",
       "      <td>6.0</td>\n",
       "      <td>2.0</td>\n",
       "      <td>...</td>\n",
       "      <td>48.0</td>\n",
       "      <td>7.2</td>\n",
       "      <td>3.0</td>\n",
       "      <td>5.3</td>\n",
       "      <td>2.0</td>\n",
       "      <td>1</td>\n",
       "      <td>2208</td>\n",
       "      <td>0</td>\n",
       "      <td>0</td>\n",
       "      <td>1</td>\n",
       "    </tr>\n",
       "    <tr>\n",
       "      <th>4</th>\n",
       "      <td>2.0</td>\n",
       "      <td>1</td>\n",
       "      <td>530255</td>\n",
       "      <td>37.3</td>\n",
       "      <td>104.0</td>\n",
       "      <td>35.0</td>\n",
       "      <td>NaN</td>\n",
       "      <td>NaN</td>\n",
       "      <td>6.0</td>\n",
       "      <td>2.0</td>\n",
       "      <td>...</td>\n",
       "      <td>74.0</td>\n",
       "      <td>7.4</td>\n",
       "      <td>NaN</td>\n",
       "      <td>NaN</td>\n",
       "      <td>2.0</td>\n",
       "      <td>2</td>\n",
       "      <td>4300</td>\n",
       "      <td>0</td>\n",
       "      <td>0</td>\n",
       "      <td>2</td>\n",
       "    </tr>\n",
       "  </tbody>\n",
       "</table>\n",
       "<p>5 rows × 28 columns</p>\n",
       "</div>"
      ],
      "text/plain": [
       "   Surgery  Age  Hospital number  Rectal_temperature   Puls  Respiratory_rate  \\\n",
       "0      2.0    1           530101                38.5   66.0              28.0   \n",
       "1      1.0    1           534817                39.2   88.0              20.0   \n",
       "2      2.0    1           530334                38.3   40.0              24.0   \n",
       "3      1.0    9          5290409                39.1  164.0              84.0   \n",
       "4      2.0    1           530255                37.3  104.0              35.0   \n",
       "\n",
       "   Temperature_extremities  Peripheral pulse  Mucous membranes  \\\n",
       "0                      3.0               3.0               NaN   \n",
       "1                      NaN               NaN               4.0   \n",
       "2                      1.0               1.0               3.0   \n",
       "3                      4.0               1.0               6.0   \n",
       "4                      NaN               NaN               6.0   \n",
       "\n",
       "   Capillary refill time  ...  Packed cell volume  Total protein  \\\n",
       "0                    2.0  ...                45.0            8.4   \n",
       "1                    1.0  ...                50.0           85.0   \n",
       "2                    1.0  ...                33.0            6.7   \n",
       "3                    2.0  ...                48.0            7.2   \n",
       "4                    2.0  ...                74.0            7.4   \n",
       "\n",
       "   Abdominocentesis appearance  Abdomcentesis total protein  Outcome  \\\n",
       "0                          NaN                          NaN      2.0   \n",
       "1                          2.0                          2.0      3.0   \n",
       "2                          NaN                          NaN      1.0   \n",
       "3                          3.0                          5.3      2.0   \n",
       "4                          NaN                          NaN      2.0   \n",
       "\n",
       "   Surgical lesion     25  26  27  Cp_data  \n",
       "0                2  11300   0   0        2  \n",
       "1                2   2208   0   0        2  \n",
       "2                2      0   0   0        1  \n",
       "3                1   2208   0   0        1  \n",
       "4                2   4300   0   0        2  \n",
       "\n",
       "[5 rows x 28 columns]"
      ]
     },
     "execution_count": 4,
     "metadata": {},
     "output_type": "execute_result"
    }
   ],
   "source": [
    "# Преобразуем строковые данные в числовые\n",
    "df = fail.apply(lambda column: pd.to_numeric(column), axis=0)\n",
    "df.head()"
   ]
  },
  {
   "cell_type": "code",
   "execution_count": 5,
   "metadata": {},
   "outputs": [
    {
     "name": "stdout",
     "output_type": "stream",
     "text": [
      "Surgery - 0.3%\n",
      "Age - 0.0%\n",
      "Hospital number - 0.0%\n",
      "Rectal_temperature - 20.0%\n",
      "Puls - 8.0%\n",
      "Respiratory_rate - 19.3%\n",
      "Temperature_extremities - 18.7%\n",
      "Peripheral pulse - 23.0%\n",
      "Mucous membranes - 15.7%\n",
      "Capillary refill time - 10.7%\n",
      "Pain - 18.3%\n",
      "Perestalsis - 14.7%\n",
      "Abdominal distension - 18.7%\n",
      "Nasogastric tube - 34.7%\n",
      "Nasogastric reflux - 35.3%\n",
      "Nasogastric reflux PH - 82.3%\n",
      "Rectal examination - 34.0%\n",
      "Abdomen - 39.3%\n",
      "Packed cell volume - 9.7%\n",
      "Total protein - 11.0%\n",
      "Abdominocentesis appearance - 55.0%\n",
      "Abdomcentesis total protein - 66.0%\n",
      "Outcome - 0.3%\n",
      "Surgical lesion - 0.0%\n",
      "25 - 0.0%\n",
      "26 - 0.0%\n",
      "27 - 0.0%\n",
      "Cp_data - 0.0%\n"
     ]
    }
   ],
   "source": [
    "# Расчитаем долю пропусков для всех столбцов\n",
    "for col in df.columns:\n",
    "    pct_missing = df[col].isnull().mean()\n",
    "    print(f'{col} - {pct_missing :.1%}')   "
   ]
  },
  {
   "cell_type": "code",
   "execution_count": 6,
   "metadata": {},
   "outputs": [
    {
     "data": {
      "text/html": [
       "<div>\n",
       "<style scoped>\n",
       "    .dataframe tbody tr th:only-of-type {\n",
       "        vertical-align: middle;\n",
       "    }\n",
       "\n",
       "    .dataframe tbody tr th {\n",
       "        vertical-align: top;\n",
       "    }\n",
       "\n",
       "    .dataframe thead th {\n",
       "        text-align: right;\n",
       "    }\n",
       "</style>\n",
       "<table border=\"1\" class=\"dataframe\">\n",
       "  <thead>\n",
       "    <tr style=\"text-align: right;\">\n",
       "      <th></th>\n",
       "      <th>Rectal_temperature</th>\n",
       "      <th>Puls</th>\n",
       "      <th>Respiratory_rate</th>\n",
       "      <th>Packed cell volume</th>\n",
       "      <th>Total protein</th>\n",
       "      <th>Abdomcentesis total protein</th>\n",
       "    </tr>\n",
       "  </thead>\n",
       "  <tbody>\n",
       "    <tr>\n",
       "      <th>Rectal_temperature</th>\n",
       "      <td>1.000000</td>\n",
       "      <td>0.255711</td>\n",
       "      <td>0.267962</td>\n",
       "      <td>-0.583071</td>\n",
       "      <td>0.527883</td>\n",
       "      <td>-1.0</td>\n",
       "    </tr>\n",
       "    <tr>\n",
       "      <th>Puls</th>\n",
       "      <td>0.255711</td>\n",
       "      <td>1.000000</td>\n",
       "      <td>0.886045</td>\n",
       "      <td>0.414669</td>\n",
       "      <td>-0.053303</td>\n",
       "      <td>1.0</td>\n",
       "    </tr>\n",
       "    <tr>\n",
       "      <th>Respiratory_rate</th>\n",
       "      <td>0.267962</td>\n",
       "      <td>0.886045</td>\n",
       "      <td>1.000000</td>\n",
       "      <td>0.079159</td>\n",
       "      <td>-0.391047</td>\n",
       "      <td>1.0</td>\n",
       "    </tr>\n",
       "    <tr>\n",
       "      <th>Packed cell volume</th>\n",
       "      <td>-0.583071</td>\n",
       "      <td>0.414669</td>\n",
       "      <td>0.079159</td>\n",
       "      <td>1.000000</td>\n",
       "      <td>0.003518</td>\n",
       "      <td>-1.0</td>\n",
       "    </tr>\n",
       "    <tr>\n",
       "      <th>Total protein</th>\n",
       "      <td>0.527883</td>\n",
       "      <td>-0.053303</td>\n",
       "      <td>-0.391047</td>\n",
       "      <td>0.003518</td>\n",
       "      <td>1.000000</td>\n",
       "      <td>-1.0</td>\n",
       "    </tr>\n",
       "    <tr>\n",
       "      <th>Abdomcentesis total protein</th>\n",
       "      <td>-1.000000</td>\n",
       "      <td>1.000000</td>\n",
       "      <td>1.000000</td>\n",
       "      <td>-1.000000</td>\n",
       "      <td>-1.000000</td>\n",
       "      <td>1.0</td>\n",
       "    </tr>\n",
       "  </tbody>\n",
       "</table>\n",
       "</div>"
      ],
      "text/plain": [
       "                             Rectal_temperature      Puls  Respiratory_rate  \\\n",
       "Rectal_temperature                     1.000000  0.255711          0.267962   \n",
       "Puls                                   0.255711  1.000000          0.886045   \n",
       "Respiratory_rate                       0.267962  0.886045          1.000000   \n",
       "Packed cell volume                    -0.583071  0.414669          0.079159   \n",
       "Total protein                          0.527883 -0.053303         -0.391047   \n",
       "Abdomcentesis total protein           -1.000000  1.000000          1.000000   \n",
       "\n",
       "                             Packed cell volume  Total protein  \\\n",
       "Rectal_temperature                    -0.583071       0.527883   \n",
       "Puls                                   0.414669      -0.053303   \n",
       "Respiratory_rate                       0.079159      -0.391047   \n",
       "Packed cell volume                     1.000000       0.003518   \n",
       "Total protein                          0.003518       1.000000   \n",
       "Abdomcentesis total protein           -1.000000      -1.000000   \n",
       "\n",
       "                             Abdomcentesis total protein  \n",
       "Rectal_temperature                                  -1.0  \n",
       "Puls                                                 1.0  \n",
       "Respiratory_rate                                     1.0  \n",
       "Packed cell volume                                  -1.0  \n",
       "Total protein                                       -1.0  \n",
       "Abdomcentesis total protein                          1.0  "
      ]
     },
     "execution_count": 6,
     "metadata": {},
     "output_type": "execute_result"
    }
   ],
   "source": [
    "# Рассчитаем корреляционную матрицу для количественных переменных\n",
    "\n",
    "# Две самые скоррелированные переменные: Respiratory rate, Puls\n",
    "df_sample = df.loc[:, ['Rectal_temperature', 'Puls', 'Respiratory_rate', 'Packed cell volume', 'Total protein', 'Abdomcentesis total protein']].head()\n",
    "df_sample.corr()"
   ]
  },
  {
   "cell_type": "code",
   "execution_count": 7,
   "metadata": {},
   "outputs": [
    {
     "data": {
      "text/plain": [
       "<matplotlib.axes._subplots.AxesSubplot at 0xb19e130>"
      ]
     },
     "execution_count": 7,
     "metadata": {},
     "output_type": "execute_result"
    },
    {
     "data": {
      "image/png": "[encoded data removed]",
      "text/plain": [
       "<Figure size 842.4x595.44 with 2 Axes>"
      ]
     },
     "metadata": {},
     "output_type": "display_data"
    }
   ],
   "source": [
    "# Визуализируем корреляционную матрицу\n",
    "sns.set(rc={'figure.figsize':(11.7,8.27)})\n",
    "sns.heatmap(df_sample.corr(), annot=True)"
   ]
  },
  {
   "cell_type": "code",
   "execution_count": 8,
   "metadata": {},
   "outputs": [
    {
     "data": {
      "text/plain": [
       "<matplotlib.axes._subplots.AxesSubplot at 0xb4fa460>"
      ]
     },
     "execution_count": 8,
     "metadata": {},
     "output_type": "execute_result"
    },
    {
     "data": {
      "image/png": "[encoded data removed]",
      "text/plain": [
       "<Figure size 842.4x595.44 with 1 Axes>"
      ]
     },
     "metadata": {},
     "output_type": "display_data"
    }
   ],
   "source": [
    "# Построим распределение Ректальный температуры по возрасту лошадей\n",
    "rectal_temperature = df.Age.value_counts().sort_values(ascending = False).head(3).index.values\n",
    "sns.boxplot(x=\"Age\", y=\"Rectal_temperature\", \n",
    "            data=df[df.Age.isin(rectal_temperature)])"
   ]
  },
  {
   "cell_type": "code",
   "execution_count": 9,
   "metadata": {},
   "outputs": [],
   "source": [
    "# Удалим выбросы через межквартльный размах\n",
    "q1 = df.Rectal_temperature.quantile(0.25)\n",
    "q3 = df.Rectal_temperature.quantile(0.75)\n",
    "iqr = q3 - q1\n",
    "lower_bound = q1 - (1.5 * iqr) \n",
    "upper_bound = q3 + (1.5 * iqr)\n",
    "remove_outliers = df[df.Rectal_temperature.between(lower_bound, upper_bound, inclusive=True)].sort_values('Rectal_temperature')"
   ]
  },
  {
   "cell_type": "code",
   "execution_count": 10,
   "metadata": {},
   "outputs": [
    {
     "data": {
      "text/html": [
       "<div>\n",
       "<style scoped>\n",
       "    .dataframe tbody tr th:only-of-type {\n",
       "        vertical-align: middle;\n",
       "    }\n",
       "\n",
       "    .dataframe tbody tr th {\n",
       "        vertical-align: top;\n",
       "    }\n",
       "\n",
       "    .dataframe thead tr th {\n",
       "        text-align: left;\n",
       "    }\n",
       "\n",
       "    .dataframe thead tr:last-of-type th {\n",
       "        text-align: right;\n",
       "    }\n",
       "</style>\n",
       "<table border=\"1\" class=\"dataframe\">\n",
       "  <thead>\n",
       "    <tr>\n",
       "      <th></th>\n",
       "      <th colspan=\"8\" halign=\"left\">Rectal_temperature</th>\n",
       "    </tr>\n",
       "    <tr>\n",
       "      <th></th>\n",
       "      <th>count</th>\n",
       "      <th>mean</th>\n",
       "      <th>std</th>\n",
       "      <th>min</th>\n",
       "      <th>25%</th>\n",
       "      <th>50%</th>\n",
       "      <th>75%</th>\n",
       "      <th>max</th>\n",
       "    </tr>\n",
       "    <tr>\n",
       "      <th>Age</th>\n",
       "      <th></th>\n",
       "      <th></th>\n",
       "      <th></th>\n",
       "      <th></th>\n",
       "      <th></th>\n",
       "      <th></th>\n",
       "      <th></th>\n",
       "      <th></th>\n",
       "    </tr>\n",
       "  </thead>\n",
       "  <tbody>\n",
       "    <tr>\n",
       "      <th>1</th>\n",
       "      <td>207.0</td>\n",
       "      <td>38.130435</td>\n",
       "      <td>0.568332</td>\n",
       "      <td>36.8</td>\n",
       "      <td>37.80</td>\n",
       "      <td>38.1</td>\n",
       "      <td>38.50</td>\n",
       "      <td>39.5</td>\n",
       "    </tr>\n",
       "    <tr>\n",
       "      <th>9</th>\n",
       "      <td>19.0</td>\n",
       "      <td>38.589474</td>\n",
       "      <td>0.434479</td>\n",
       "      <td>38.0</td>\n",
       "      <td>38.25</td>\n",
       "      <td>38.6</td>\n",
       "      <td>38.85</td>\n",
       "      <td>39.5</td>\n",
       "    </tr>\n",
       "  </tbody>\n",
       "</table>\n",
       "</div>"
      ],
      "text/plain": [
       "    Rectal_temperature                                                     \n",
       "                 count       mean       std   min    25%   50%    75%   max\n",
       "Age                                                                        \n",
       "1                207.0  38.130435  0.568332  36.8  37.80  38.1  38.50  39.5\n",
       "9                 19.0  38.589474  0.434479  38.0  38.25  38.6  38.85  39.5"
      ]
     },
     "execution_count": 10,
     "metadata": {},
     "output_type": "execute_result"
    }
   ],
   "source": [
    "# Рассчитаем основные статистики Ректальный температуры для каждой категории возраста лошадей (Age)\n",
    "df_sample = remove_outliers.loc[:, ['Rectal_temperature','Age']].groupby('Age')\n",
    "df_sample.describe()"
   ]
  },
  {
   "cell_type": "code",
   "execution_count": 11,
   "metadata": {},
   "outputs": [
    {
     "name": "stdout",
     "output_type": "stream",
     "text": [
      "Значение медианы для Ректальный температуры: Age\n",
      "1    38.1\n",
      "9    38.6\n",
      "Name: Rectal_temperature, dtype: float64\n"
     ]
    }
   ],
   "source": [
    "print(f'Значение медианы для Ректальный температуры: {df_sample.Rectal_temperature.median()}')"
   ]
  },
  {
   "cell_type": "code",
   "execution_count": 12,
   "metadata": {},
   "outputs": [],
   "source": [
    "# Проведем замену пропусков Rectal_temperature медианой\n",
    "remove_outliers[['Rectal_temperature']][remove_outliers['Age'] == 1].fillna(remove_outliers[['Rectal_temperature']][remove_outliers['Age'] == 1].median(), inplace=True)\n",
    "remove_outliers[['Rectal_temperature']][remove_outliers['Age'] == 9].fillna(remove_outliers[['Rectal_temperature']][remove_outliers['Age'] == 9].median(), inplace=True)"
   ]
  },
  {
   "cell_type": "code",
   "execution_count": 13,
   "metadata": {},
   "outputs": [],
   "source": [
    "df = remove_outliers"
   ]
  },
  {
   "cell_type": "code",
   "execution_count": 14,
   "metadata": {},
   "outputs": [
    {
     "data": {
      "text/plain": [
       "(226, 28)"
      ]
     },
     "execution_count": 14,
     "metadata": {},
     "output_type": "execute_result"
    }
   ],
   "source": [
    "df.shape"
   ]
  },
  {
   "cell_type": "code",
   "execution_count": 15,
   "metadata": {},
   "outputs": [
    {
     "name": "stdout",
     "output_type": "stream",
     "text": [
      "Surgery - 0.4%\n",
      "Age - 0.0%\n",
      "Hospital number - 0.0%\n",
      "Rectal_temperature - 0.0%\n",
      "Puls - 2.7%\n",
      "Respiratory_rate - 11.9%\n",
      "Temperature_extremities - 18.1%\n",
      "Peripheral pulse - 21.2%\n",
      "Mucous membranes - 15.0%\n",
      "Capillary refill time - 8.8%\n",
      "Pain - 17.3%\n",
      "Perestalsis - 12.8%\n",
      "Abdominal distension - 16.4%\n",
      "Nasogastric tube - 33.6%\n",
      "Nasogastric reflux - 35.0%\n",
      "Nasogastric reflux PH - 79.6%\n",
      "Rectal examination - 30.5%\n",
      "Abdomen - 40.7%\n",
      "Packed cell volume - 8.0%\n",
      "Total protein - 9.3%\n",
      "Abdominocentesis appearance - 53.1%\n",
      "Abdomcentesis total protein - 64.6%\n",
      "Outcome - 0.4%\n",
      "Surgical lesion - 0.0%\n",
      "25 - 0.0%\n",
      "26 - 0.0%\n",
      "27 - 0.0%\n",
      "Cp_data - 0.0%\n"
     ]
    }
   ],
   "source": [
    "for col in df.columns:\n",
    "    pct_missing = df[col].isnull().mean()\n",
    "    print(f'{col} - {pct_missing :.1%}')"
   ]
  },
  {
   "cell_type": "code",
   "execution_count": 16,
   "metadata": {},
   "outputs": [
    {
     "data": {
      "text/plain": [
       "<matplotlib.axes._subplots.AxesSubplot at 0xb58f7f0>"
      ]
     },
     "execution_count": 16,
     "metadata": {},
     "output_type": "execute_result"
    },
    {
     "data": {
      "image/png": "[encoded data removed]",
      "text/plain": [
       "<Figure size 842.4x595.44 with 1 Axes>"
      ]
     },
     "metadata": {},
     "output_type": "display_data"
    }
   ],
   "source": [
    "# Построим распределение Ректальный температуры по категории \"Temperature_extremities\"\n",
    "\n",
    "\"\"\"\n",
    "Визуализировав распределение, принимаю решение игнорировать пропуски в столбце Temperature_extremities. \n",
    "Медианы всех четырех категорий равны. Из описательной части к данным Dataseta 3, 4 категории должны \n",
    "обладать меньшей температурой.\n",
    "\"\"\"\n",
    "rectal_temperature = df.Temperature_extremities.value_counts().sort_values(ascending = False).head(4).index.values\n",
    "sns.boxplot(x=\"Temperature_extremities\", y=\"Rectal_temperature\", \n",
    "            data=df[df.Temperature_extremities.isin(rectal_temperature)])"
   ]
  },
  {
   "cell_type": "code",
   "execution_count": 17,
   "metadata": {},
   "outputs": [],
   "source": [
    "# Построим модель логистической регрессии\n",
    "\n",
    "# Загружаем данные в датафрейм\n",
    "data = df.loc[:, ['Peripheral pulse', 'Abdominal distension', 'Perestalsis', 'Mucous membranes', 'Cp_data']]\n",
    "data = data.dropna()\n",
    "data_outcome = data.Cp_data"
   ]
  },
  {
   "cell_type": "code",
   "execution_count": 18,
   "metadata": {},
   "outputs": [],
   "source": [
    "# Разделяем выборку на тренировочную и тестовую\n",
    "from sklearn.model_selection import train_test_split\n",
    "X_train, X_test, y_train, y_test = train_test_split(data, data_outcome, test_size=0.2)"
   ]
  },
  {
   "cell_type": "code",
   "execution_count": 19,
   "metadata": {},
   "outputs": [],
   "source": [
    "# Импортируем функционал\n",
    "from sklearn.linear_model import LogisticRegression"
   ]
  },
  {
   "cell_type": "code",
   "execution_count": 20,
   "metadata": {},
   "outputs": [],
   "source": [
    "lr = LogisticRegression()"
   ]
  },
  {
   "cell_type": "code",
   "execution_count": 21,
   "metadata": {},
   "outputs": [
    {
     "data": {
      "text/plain": [
       "LogisticRegression()"
      ]
     },
     "execution_count": 21,
     "metadata": {},
     "output_type": "execute_result"
    }
   ],
   "source": [
    "lr.fit(X_train, y_train)"
   ]
  },
  {
   "cell_type": "code",
   "execution_count": 22,
   "metadata": {},
   "outputs": [
    {
     "data": {
      "text/plain": [
       "array([1, 2, 1, 2, 1, 1, 2, 1, 1, 1, 2, 2, 2, 2, 2, 1, 2, 1, 1, 1, 2, 2,\n",
       "       2, 1, 1, 1, 1, 2, 2, 2, 1], dtype=int64)"
      ]
     },
     "execution_count": 22,
     "metadata": {},
     "output_type": "execute_result"
    }
   ],
   "source": [
    "lr.predict(X_test)"
   ]
  },
  {
   "cell_type": "code",
   "execution_count": 23,
   "metadata": {},
   "outputs": [],
   "source": [
    "# Расчет точности - отношение верный прогнозов к общему количеству позиций\n",
    "from sklearn.metrics import accuracy_score"
   ]
  },
  {
   "cell_type": "code",
   "execution_count": 24,
   "metadata": {},
   "outputs": [
    {
     "data": {
      "text/plain": [
       "1.0"
      ]
     },
     "execution_count": 24,
     "metadata": {},
     "output_type": "execute_result"
    }
   ],
   "source": [
    "accuracy_score(y_test, lr.predict(X_test))"
   ]
  },
  {
   "cell_type": "code",
   "execution_count": 25,
   "metadata": {},
   "outputs": [
    {
     "data": {
      "text/plain": [
       "array([[ 0.17744332, -0.07524656, -0.14839967, -0.08363292,  4.73818641]])"
      ]
     },
     "execution_count": 25,
     "metadata": {},
     "output_type": "execute_result"
    }
   ],
   "source": [
    "lr.coef_"
   ]
  },
  {
   "cell_type": "code",
   "execution_count": 26,
   "metadata": {},
   "outputs": [],
   "source": [
    "from sklearn.metrics import confusion_matrix"
   ]
  },
  {
   "cell_type": "code",
   "execution_count": 27,
   "metadata": {},
   "outputs": [
    {
     "data": {
      "text/plain": [
       "array([[16,  0],\n",
       "       [ 0, 15]], dtype=int64)"
      ]
     },
     "execution_count": 27,
     "metadata": {},
     "output_type": "execute_result"
    }
   ],
   "source": [
    "# Вычислим матрицу неточностей, чтобы оценить точность классификации\n",
    "confusion_matrix(y_test, lr.predict(X_test))"
   ]
  }
 ],
 "metadata": {
  "kernelspec": {
   "display_name": "Python 3",
   "language": "python",
   "name": "python3"
  },
  "language_info": {
   "codemirror_mode": {
    "name": "ipython",
    "version": 3
   },
   "file_extension": ".py",
   "mimetype": "text/x-python",
   "name": "python",
   "nbconvert_exporter": "python",
   "pygments_lexer": "ipython3",
   "version": "3.8.3"
  }
 },
 "nbformat": 4,
 "nbformat_minor": 4
}
