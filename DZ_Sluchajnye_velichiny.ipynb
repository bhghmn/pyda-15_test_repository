{
 "cells": [
  {
   "cell_type": "code",
   "execution_count": 1,
   "metadata": {},
   "outputs": [],
   "source": [
    "import numpy as np"
   ]
  },
  {
   "cell_type": "code",
   "execution_count": 4,
   "metadata": {},
   "outputs": [
    {
     "name": "stdout",
     "output_type": "stream",
     "text": [
      "Число успешных исходов: 204098, Число попыток: 1000000, Вероятность из моделирования: 0.204098, Средний доход от игры: -0.20683200000000002\n"
     ]
    }
   ],
   "source": [
    "trials = 1000000  # Количество попыток = Сумме потраченных средств\n",
    "successes = 0     # Количество успехов\n",
    "value = 0         # Количество вырученных средств, руб.\n",
    "\n",
    "for i in range(trials):\n",
    "    random_score = np.random.randint(0, 1000)    # Случайное целое число от 0 до 999\n",
    "    if random_score == 777:\n",
    "        successes += 1\n",
    "        value += 200\n",
    "    elif random_score == 999:\n",
    "        successes += 1\n",
    "        value += 100\n",
    "    elif random_score == 555:\n",
    "        successes += 1\n",
    "        value += 50       \n",
    "    elif random_score == 333:\n",
    "        successes += 1\n",
    "        value += 15\n",
    "    elif random_score == 111:\n",
    "        successes += 1\n",
    "        value += 10\n",
    "    elif random_score % 100 == 77:\n",
    "        successes += 1\n",
    "        value += 5        \n",
    "    elif random_score % 10 == 7:\n",
    "        successes += 1\n",
    "        value += 3\n",
    "    elif random_score % 100 == 0:\n",
    "        successes += 1\n",
    "        value += 2\n",
    "    elif random_score % 10 == 0:\n",
    "        successes += 1\n",
    "        value += 1\n",
    "       \n",
    "p_monte_carlo = successes / trials    # Вероятность из моделирования\n",
    "Invest = value / trials - 1\n",
    "\n",
    "print(f'Число успешных исходов: {successes}, Число попыток: {trials}, Вероятность из моделирования: {p_monte_carlo}, Средний доход от игры: {Invest}')"
   ]
  }
 ],
 "metadata": {
  "kernelspec": {
   "display_name": "Python 3",
   "language": "python",
   "name": "python3"
  },
  "language_info": {
   "codemirror_mode": {
    "name": "ipython",
    "version": 3
   },
   "file_extension": ".py",
   "mimetype": "text/x-python",
   "name": "python",
   "nbconvert_exporter": "python",
   "pygments_lexer": "ipython3",
   "version": "3.8.3"
  }
 },
 "nbformat": 4,
 "nbformat_minor": 4
}
