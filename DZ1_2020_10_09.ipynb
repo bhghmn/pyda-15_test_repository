{
 "cells": [
  {
   "cell_type": "code",
   "execution_count": 16,
   "metadata": {},
   "outputs": [
    {
     "name": "stdout",
     "output_type": "stream",
     "text": [
      "Фраза 2 длиннее фразы 1\n",
      "The end\n"
     ]
    }
   ],
   "source": [
    "phrase_1 = \"Насколько проще было бы писать программы, если бы не заказчики\"\n",
    "phrase_2 = \"640Кб должно хватить для любых задач. Билл Гейтс (по легенде)!!\"\n",
    "if len(phrase_1)> len (phrase_2):\n",
    "    print ('Фраза 1 длиннее фразы 2')\n",
    "elif len(phrase_1)< len (phrase_2):\n",
    "    print ('Фраза 2 длиннее фразы 1')\n",
    "else:\n",
    "    print('Фразы равной длины')\n",
    "print('The end')"
   ]
  },
  {
   "cell_type": "code",
   "execution_count": 14,
   "metadata": {},
   "outputs": [
    {
     "name": "stdout",
     "output_type": "stream",
     "text": [
      "2020 - високосный год\n",
      "The end\n"
     ]
    }
   ],
   "source": [
    "year = 2020\n",
    "if not year % 4 == 0:\n",
    "    print(year, '- обычный год')\n",
    "    print('The end')\n",
    "elif not year % 100 == 0:\n",
    "    print(year, '- високосный год') \n",
    "    print('The end')\n",
    "elif (year % 100 == 0) and (year % 400 == 0):\n",
    "    print(year, '- високосный год') \n",
    "    print('The end')\n",
    "else:\n",
    "    print(year, '- обычный год')\n",
    "    print('The end')"
   ]
  },
  {
   "cell_type": "code",
   "execution_count": 26,
   "metadata": {},
   "outputs": [
    {
     "name": "stdout",
     "output_type": "stream",
     "text": [
      "Коробка № 2\n",
      "The end\n"
     ]
    }
   ],
   "source": [
    "width = 6\n",
    "length = 49\n",
    "height = 6\n",
    "if length>200:\n",
    "    print ('Упаковка для лыж')\n",
    "    print('The end')\n",
    "elif(width<15) and (length<15) and (height<15):\n",
    "    print ('Коробка № 1')\n",
    "    print('The end')\n",
    "elif (15<width<50) or (15<length<50) or(15<height<50):\n",
    "    print ('Коробка № 2')\n",
    "    print('The end')\n",
    "else:\n",
    "    print ('Стандартная коробка № 3')\n",
    "    print('The end')      "
   ]
  },
  {
   "cell_type": "code",
   "execution_count": 33,
   "metadata": {},
   "outputs": [
    {
     "ename": "IndentationError",
     "evalue": "unexpected indent (<ipython-input-33-ced7223ef94a>, line 2)",
     "output_type": "error",
     "traceback": [
      "\u001b[1;36m  File \u001b[1;32m\"<ipython-input-33-ced7223ef94a>\"\u001b[1;36m, line \u001b[1;32m2\u001b[0m\n\u001b[1;33m    if user_foam = круг:\u001b[0m\n\u001b[1;37m    ^\u001b[0m\n\u001b[1;31mIndentationError\u001b[0m\u001b[1;31m:\u001b[0m unexpected indent\n"
     ]
    }
   ],
   "source": [
    " user_foam = int(input('Введите тип фигуры'))\n",
    "    if user_foam = круг:\n",
    "    print ('Введите радиус круга')"
   ]
  }
 ],
 "metadata": {
  "kernelspec": {
   "display_name": "Python 3",
   "language": "python",
   "name": "python3"
  },
  "language_info": {
   "codemirror_mode": {
    "name": "ipython",
    "version": 3
   },
   "file_extension": ".py",
   "mimetype": "text/x-python",
   "name": "python",
   "nbconvert_exporter": "python",
   "pygments_lexer": "ipython3",
   "version": "3.8.3"
  }
 },
 "nbformat": 4,
 "nbformat_minor": 4
}
