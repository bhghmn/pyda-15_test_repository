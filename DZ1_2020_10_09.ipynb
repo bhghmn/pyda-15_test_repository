{
 "cells": [
  {
   "cell_type": "code",
   "execution_count": 24,
   "metadata": {},
   "outputs": [
    {
     "name": "stdout",
     "output_type": "stream",
     "text": [
      "Фраза 2 длиннее фразы 1\n",
      "The end\n"
     ]
    }
   ],
   "source": [
    "# Задание 1\n",
    "phrase_1 = \"Насколько проще было бы писать программы, если бы не заказчики\"\n",
    "phrase_2 = \"640Кб должно хватить для любых задач. Билл Гейтс (по легенде)!!\"\n",
    "if len(phrase_1)> len (phrase_2):\n",
    "    print ('Фраза 1 длиннее фразы 2')\n",
    "elif len(phrase_1)< len (phrase_2):\n",
    "    print ('Фраза 2 длиннее фразы 1')\n",
    "else:\n",
    "    print('Фразы равной длины')\n",
    "print('The end')"
   ]
  },
  {
   "cell_type": "code",
   "execution_count": 25,
   "metadata": {},
   "outputs": [
    {
     "name": "stdout",
     "output_type": "stream",
     "text": [
      "2020 - високосный год\n",
      "The end\n"
     ]
    }
   ],
   "source": [
    "# Задание 2\n",
    "year = 2020\n",
    "if not year % 4 == 0:\n",
    "    print(year, '- обычный год')\n",
    "    print('The end')\n",
    "elif not year % 100 == 0:\n",
    "    print(year, '- високосный год') \n",
    "    print('The end')\n",
    "elif (year % 100 == 0) and (year % 400 == 0):\n",
    "    print(year, '- високосный год') \n",
    "    print('The end')\n",
    "else:\n",
    "    print(year, '- обычный год')\n",
    "    print('The end')"
   ]
  },
  {
   "cell_type": "code",
   "execution_count": 26,
   "metadata": {},
   "outputs": [
    {
     "name": "stdout",
     "output_type": "stream",
     "text": [
      "Коробка № 2\n",
      "The end\n"
     ]
    }
   ],
   "source": [
    "# Задание 4\n",
    "width = 6\n",
    "length = 49\n",
    "height = 6\n",
    "if length>200:\n",
    "    print ('Упаковка для лыж')\n",
    "    print('The end')\n",
    "elif(width<15) and (length<15) and (height<15):\n",
    "    print ('Коробка № 1')\n",
    "    print('The end')\n",
    "elif (15<width<50) or (15<length<50) or(15<height<50):\n",
    "    print ('Коробка № 2')\n",
    "    print('The end')\n",
    "else:\n",
    "    print ('Стандартная коробка № 3')\n",
    "    print('The end')      "
   ]
  },
  {
   "cell_type": "code",
   "execution_count": 27,
   "metadata": {},
   "outputs": [
    {
     "name": "stdout",
     "output_type": "stream",
     "text": [
      "Введите тип фигуры: круг\n",
      "Введите радиус круга: 4\n",
      "Площадь круга: 50.24\n"
     ]
    }
   ],
   "source": [
    "# Задание 6\n",
    "user_input = input('Введите тип фигуры: ')\n",
    "if user_input == 'круг':\n",
    "    r = int(input('Введите радиус круга: '))\n",
    "    print ('Площадь круга:', 3.14*r**2)\n",
    "elif user_input == 'треугольник':\n",
    "    a = int(input('Введите длину стороны: А '))\n",
    "    b = int(input('Введите длину стороны: B '))\n",
    "    c = int(input('Введите длину стороны: C '))\n",
    "    p = (a+b+c)/2\n",
    "    s = sqrt(p*(p-a)*(p-b)*(p-c))# не работает формула, не удалось разобраться почему\n",
    "    print ('Площадь треугольника равна:', s)\n",
    "else:\n",
    "    print ('Алгоритм не определен')\n",
    "    print('The end')  "
   ]
  },
  {
   "cell_type": "code",
   "execution_count": 28,
   "metadata": {},
   "outputs": [
    {
     "name": "stdout",
     "output_type": "stream",
     "text": [
      "Введите день: 25\n",
      "Введите месяц: май\n",
      "Ваш знак зодиака: Близнецы\n"
     ]
    }
   ],
   "source": [
    "# Задание 3 (первое полугодие, далее аналогично)\n",
    "user_input = int(input('Введите день: '))\n",
    "user_input1 = input('Введите месяц: ')\n",
    "if user_input1 == 'январь' and user_input <= 20:\n",
    "    print ('Ваш знак зодиака: Козерог')\n",
    "elif user_input1 == 'январь' and user_input > 20:\n",
    "    print ('Ваш знак зодиака: Водолей')\n",
    "elif user_input1 == 'февраль' and user_input <= 18:\n",
    "    print ('Ваш знак зодиака: Водолей')   \n",
    "elif user_input1 == 'февраль' and user_input > 18:\n",
    "    print ('Ваш знак зодиака: Рыбы')\n",
    "elif user_input1 == 'март' and user_input <= 20:\n",
    "    print ('Ваш знак зодиака: Рыбы')   \n",
    "elif user_input1 == 'март' and user_input > 20:\n",
    "    print ('Ваш знак зодиака: Овен')\n",
    "elif user_input1 == 'апрель' and user_input <= 20:\n",
    "    print ('Ваш знак зодиака: Овен')   \n",
    "elif user_input1 == 'апрель' and user_input > 20:\n",
    "    print ('Ваш знак зодиака: Телец')\n",
    "elif user_input1 == 'май' and user_input <= 21:\n",
    "    print ('Ваш знак зодиака: Телец')   \n",
    "elif user_input1 == 'май' and user_input > 21:\n",
    "    print ('Ваш знак зодиака: Близнецы')\n",
    "elif user_input1 == 'июнь' and user_input <= 21:\n",
    "    print ('Ваш знак зодиака: Близнецы')   \n",
    "elif user_input1 == 'июнь' and user_input > 21:\n",
    "    print ('Ваш знак зодиака: Рак')\n",
    "else:\n",
    "    print ('Алгоритм не определен')\n",
    "    print('The end')"
   ]
  }
 ],
 "metadata": {
  "kernelspec": {
   "display_name": "Python 3",
   "language": "python",
   "name": "python3"
  },
  "language_info": {
   "codemirror_mode": {
    "name": "ipython",
    "version": 3
   },
   "file_extension": ".py",
   "mimetype": "text/x-python",
   "name": "python",
   "nbconvert_exporter": "python",
   "pygments_lexer": "ipython3",
   "version": "3.8.3"
  }
 },
 "nbformat": 4,
 "nbformat_minor": 4
}
