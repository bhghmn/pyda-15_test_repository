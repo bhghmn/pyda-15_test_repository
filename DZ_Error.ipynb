{
 "cells": [
  {
   "cell_type": "code",
   "execution_count": 130,
   "metadata": {},
   "outputs": [],
   "source": [
    "from datetime import datetime"
   ]
  },
  {
   "cell_type": "code",
   "execution_count": 133,
   "metadata": {},
   "outputs": [
    {
     "name": "stdout",
     "output_type": "stream",
     "text": [
      "Ошибка в данных: 2018-02-29\n",
      "Ошибка в данных: 2018-19-02\n"
     ]
    },
    {
     "data": {
      "text/plain": [
       "datetime.datetime(2018, 4, 2, 0, 0)"
      ]
     },
     "execution_count": 133,
     "metadata": {},
     "output_type": "execute_result"
    }
   ],
   "source": [
    "# Задание 2\n",
    "stream = ['2018-04-02', '2018-02-29', '2018-19-02']\n",
    "\n",
    "def sr(data = stream):\n",
    "    stream_right = []\n",
    "    for element in data:\n",
    "        try:\n",
    "            stream_right = datetime.strptime(element, '%Y-%m-%d')\n",
    "        except:\n",
    "            print('Ошибка в данных: {}'.format(element))\n",
    "    return stream_right\n",
    "sr()"
   ]
  },
  {
   "cell_type": "code",
   "execution_count": 90,
   "metadata": {},
   "outputs": [
    {
     "data": {
      "text/plain": [
       "(datetime.datetime(2002, 10, 2, 0, 0),\n",
       " datetime.datetime(2013, 10, 11, 0, 0),\n",
       " datetime.datetime(1977, 8, 18, 0, 0))"
      ]
     },
     "execution_count": 90,
     "metadata": {},
     "output_type": "execute_result"
    }
   ],
   "source": [
    "# Задание 1\n",
    "mt = datetime.strptime('Wednesday, October 2, 2002', '%A, %B %d, %Y')\n",
    "g = datetime.strptime('Friday, 11.10.13', '%A, %d.%m.%y')\n",
    "dn = datetime.strptime('Thursday, 18 August 1977', '%A, %d %B %Y')\n",
    "\n",
    "mt, g, dn"
   ]
  }
 ],
 "metadata": {
  "kernelspec": {
   "display_name": "Python 3",
   "language": "python",
   "name": "python3"
  },
  "language_info": {
   "codemirror_mode": {
    "name": "ipython",
    "version": 3
   },
   "file_extension": ".py",
   "mimetype": "text/x-python",
   "name": "python",
   "nbconvert_exporter": "python",
   "pygments_lexer": "ipython3",
   "version": "3.8.3"
  }
 },
 "nbformat": 4,
 "nbformat_minor": 4
}
