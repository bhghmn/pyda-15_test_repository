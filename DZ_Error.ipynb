{
 "cells": [
  {
   "cell_type": "code",
   "execution_count": 33,
   "metadata": {},
   "outputs": [],
   "source": [
    "import datetime"
   ]
  },
  {
   "cell_type": "code",
   "execution_count": 152,
   "metadata": {},
   "outputs": [
    {
     "name": "stdout",
     "output_type": "stream",
     "text": [
      "Ошибка в данных: 2018-02-29\n",
      "Ошибка в данных: 2018-19-02\n"
     ]
    },
    {
     "data": {
      "text/plain": [
       "datetime.datetime(2018, 4, 2, 0, 0)"
      ]
     },
     "execution_count": 152,
     "metadata": {},
     "output_type": "execute_result"
    }
   ],
   "source": [
    "# Задание 2\n",
    "stream = ['2018-04-02', '2018-02-29', '2018-19-02']\n",
    "\n",
    "def sr(data = stream):\n",
    "    stream_right = []\n",
    "    for element in data:\n",
    "        try:\n",
    "            stream_right = datetime.datetime.strptime(element, '%Y-%m-%d')\n",
    "        except:\n",
    "            print('Ошибка в данных: {}'.format(element))\n",
    "    return stream_right\n",
    "sr()"
   ]
  },
  {
   "cell_type": "code",
   "execution_count": 37,
   "metadata": {},
   "outputs": [
    {
     "data": {
      "text/plain": [
       "(datetime.datetime(2002, 10, 2, 0, 0),\n",
       " datetime.datetime(2013, 10, 11, 0, 0),\n",
       " datetime.datetime(1977, 8, 18, 0, 0))"
      ]
     },
     "execution_count": 37,
     "metadata": {},
     "output_type": "execute_result"
    }
   ],
   "source": [
    "# Задание 1\n",
    "mt = datetime.datetime.strptime('Wednesday, October 2, 2002', '%A, %B %d, %Y')\n",
    "g = datetime.datetime.strptime('Friday, 11.10.13', '%A, %d.%m.%y')\n",
    "dn = datetime.datetime.strptime('Thursday, 18 August 1977', '%A, %d %B %Y')\n",
    "\n",
    "mt, g, dn"
   ]
  },
  {
   "cell_type": "code",
   "execution_count": 68,
   "metadata": {},
   "outputs": [
    {
     "name": "stdout",
     "output_type": "stream",
     "text": [
      "2020-06-18\n",
      "2020-06-19\n",
      "2020-06-20\n",
      "2020-06-21\n",
      "2020-06-22\n",
      "2020-06-23\n",
      "2020-06-24\n",
      "2020-06-25\n"
     ]
    }
   ],
   "source": [
    "# Задание 3 вариант не учитывает неверный формат введенных данных\n",
    "def date_range(start_date, end_date):  \n",
    "    start_date_datetime = datetime.datetime.strptime(start_date, '%Y-%m-%d')\n",
    "    end_date_datetime = datetime.datetime.strptime(end_date, '%Y-%m-%d')\n",
    "\n",
    "    if end_date_datetime < start_date_datetime:\n",
    "        print ([])\n",
    "    else:\n",
    "        current_datetime = start_date_datetime\n",
    "        while current_datetime.strftime('%Y-%m-%d') <= end_date:\n",
    "              print(current_datetime.strftime('%Y-%m-%d'))\n",
    "            \n",
    "              current_datetime += datetime.timedelta(days=1)\n",
    "            \n",
    "date_range('2020-06-18', '2020-06-25')"
   ]
  },
  {
   "cell_type": "code",
   "execution_count": 176,
   "metadata": {},
   "outputs": [],
   "source": [
    "# Задание 3 \n",
    "def date_range(start_date, end_date):\n",
    "     \n",
    "    if start_date > end_date:\n",
    "        return([])\n",
    "    else:\n",
    "        try:\n",
    "            start_date_datetime = datetime.datetime.strptime(start_date, '%Y-%m-%d')\n",
    "            end_date_datetime = datetime.datetime.strptime(end_date, '%Y-%m-%d')\n",
    "        except:\n",
    "            return([])\n",
    "    return\n",
    "    current_datetime = start_date_datetime  \n",
    "    while current_datetime.strftime('%Y-%m-%d') <= end_date:\n",
    "        print(current_datetime.strftime('%Y-%m-%d'))\n",
    "            \n",
    "        current_datetime += datetime.timedelta(days=1)\n",
    "            \n",
    "date_range('2020-06-18', '2020-06-25')"
   ]
  },
  {
   "cell_type": "code",
   "execution_count": null,
   "metadata": {},
   "outputs": [],
   "source": []
  }
 ],
 "metadata": {
  "kernelspec": {
   "display_name": "Python 3",
   "language": "python",
   "name": "python3"
  },
  "language_info": {
   "codemirror_mode": {
    "name": "ipython",
    "version": 3
   },
   "file_extension": ".py",
   "mimetype": "text/x-python",
   "name": "python",
   "nbconvert_exporter": "python",
   "pygments_lexer": "ipython3",
   "version": "3.8.3"
  }
 },
 "nbformat": 4,
 "nbformat_minor": 4
}
