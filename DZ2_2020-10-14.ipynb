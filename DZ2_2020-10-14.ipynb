{
 "cells": [
  {
   "cell_type": "code",
   "execution_count": 1,
   "metadata": {},
   "outputs": [
    {
     "name": "stdout",
     "output_type": "stream",
     "text": [
      "es\n",
      "The end\n"
     ]
    }
   ],
   "source": [
    "# Задание 1\n",
    "word = \"test\"\n",
    "if len(word) % 2 == 0:\n",
    "    print (word[len(word)//2-1:len(word)//2+1])\n",
    "    print('The end')\n",
    "else:\n",
    "    print (word[len(word)//2])\n",
    "    print('The end')"
   ]
  },
  {
   "cell_type": "code",
   "execution_count": null,
   "metadata": {},
   "outputs": [],
   "source": [
    "# Задание 2\n",
    "user_input_sum = 0\n",
    "while True:\n",
    "    user_input = int(input('Введите число: '))\n",
    "    if user_input != 0:\n",
    "       user_input_sum += user_input \n",
    "       pass\n",
    "    else:\n",
    "         print (f'Результат: {user_input_sum}')          "
   ]
  },
  {
   "cell_type": "code",
   "execution_count": 2,
   "metadata": {},
   "outputs": [
    {
     "name": "stdout",
     "output_type": "stream",
     "text": [
      "[('Alex', 'Emma'), ('Arthur', 'Kate'), ('John', 'Kira'), ('Peter', 'Liza'), ('Richard', 'Trisha')]\n",
      "The end\n"
     ]
    }
   ],
   "source": [
    "# Задание 3\n",
    "boys = ['Peter', 'Alex', 'John', 'Arthur', 'Richard']\n",
    "girls = ['Kate', 'Liza', 'Kira', 'Emma', 'Trisha']\n",
    "if len (boys)== len (girls):\n",
    "    print (list(zip(sorted(boys), sorted(girls))))\n",
    "    print('The end')\n",
    "else:\n",
    "    print ('Внимание, кто-то может остаться без пары!')\n",
    "    print('The end')"
   ]
  },
  {
   "cell_type": "code",
   "execution_count": 3,
   "metadata": {},
   "outputs": [
    {
     "name": "stdout",
     "output_type": "stream",
     "text": [
      "Средняя температура в странах:\n",
      "Thailand\n",
      "23.9 C\n",
      "Средняя температура в странах:\n",
      "Germany\n",
      "13.8 C\n",
      "Средняя температура в странах:\n",
      "Russia\n",
      "3.71 C\n",
      "Средняя температура в странах:\n",
      "Poland\n",
      "12.0 C\n"
     ]
    }
   ],
   "source": [
    "# Задание 4\n",
    "countries_temperature = [\n",
    "    ['Thailand', [75.2, 77, 78.8, 73.4, 68, 75.2, 77]],\n",
    "    ['Germany', [57.2, 55.4, 59, 59, 53.6]],\n",
    "    ['Russia', [35.6, 37.4, 39.2, 41, 42.8, 39.2, 35.6]],\n",
    "    ['Poland', [50, 50, 53.6, 57.2, 55.4, 55.4]]\n",
    "]\n",
    "for country_info in countries_temperature:\n",
    "    print('Средняя температура в странах:')\n",
    "    print(country_info[0])\n",
    "    temp_sum = 0\n",
    "    for temp in country_info[1]:\n",
    "        temp_sum += temp\n",
    "    print(f'{(temp_sum / len(country_info[1]) -32)* 5 / 9:.3} C')"
   ]
  }
 ],
 "metadata": {
  "kernelspec": {
   "display_name": "Python 3",
   "language": "python",
   "name": "python3"
  },
  "language_info": {
   "codemirror_mode": {
    "name": "ipython",
    "version": 3
   },
   "file_extension": ".py",
   "mimetype": "text/x-python",
   "name": "python",
   "nbconvert_exporter": "python",
   "pygments_lexer": "ipython3",
   "version": "3.8.3"
  }
 },
 "nbformat": 4,
 "nbformat_minor": 4
}
