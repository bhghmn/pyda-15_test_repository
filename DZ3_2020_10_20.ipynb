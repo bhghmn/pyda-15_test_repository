{
 "cells": [
  {
   "cell_type": "code",
   "execution_count": 139,
   "metadata": {},
   "outputs": [
    {
     "name": "stdout",
     "output_type": "stream",
     "text": [
      "Поисковых запросов, содержащих 3 слова 57.14 %\n",
      "Поисковых запросов, содержащих 2 слова 42.86 %\n"
     ]
    }
   ],
   "source": [
    "# Задание 2\n",
    "\n",
    "queries = [\n",
    "'смотреть сериалы онлайн',\n",
    "'новости спорта',\n",
    "'афиша кино',\n",
    "'курс доллара',\n",
    "'сериалы этим летом',\n",
    "'курс по питону',\n",
    "'сериалы про спорт'\n",
    "       ]\n",
    "res = {}\n",
    "for element in queries:\n",
    "    if len(element.split(' ')) not in res:\n",
    "        res[len(element.split(' '))] = 1\n",
    "    else:\n",
    "        res[len(element.split(' '))] += 1\n",
    "print(f'Поисковых запросов, содержащих {list(res.keys())[0]} слова {list(res.values())[0]  / sum(res.values()) * 100:.4} %')\n",
    "print(f'Поисковых запросов, содержащих {list(res.keys())[1]} слова {list(res.values())[1]  / sum(res.values()) * 100:.4} %')"
   ]
  },
  {
   "cell_type": "code",
   "execution_count": 138,
   "metadata": {},
   "outputs": [
    {
     "name": "stdout",
     "output_type": "stream",
     "text": [
      "{98, 35, 213, 54, 119, 15}\n"
     ]
    }
   ],
   "source": [
    "# Задание 1\n",
    "\n",
    "ids = {'user1':[213, 213, 213, 15, 213],\n",
    "       'user2':[54, 54, 119, 119, 119],\n",
    "       'user3':[213, 98, 98, 35]}\n",
    "ids_new = list(ids.values())\n",
    "f, s, t = [ids_new [0],ids_new [1],ids_new [2]]\n",
    "print(set (f).union(set (s)).union(set (t)))"
   ]
  },
  {
   "cell_type": "code",
   "execution_count": 136,
   "metadata": {},
   "outputs": [
    {
     "name": "stdout",
     "output_type": "stream",
     "text": [
      "Источник adwords затраты и доходы рекламной компании{'revenue': 35, 'cost': 34, 'roi': '2.94'}\n",
      "Источник facebook затраты и доходы рекламной компании{'revenue': 103, 'cost': 110, 'roi': '-6.36'}\n",
      "Источник twitter затраты и доходы рекламной компании{'revenue': 11, 'cost': 24, 'roi': '-54.17'}\n",
      "Источник vk затраты и доходы рекламной компании{'revenue': 103, 'cost': 98, 'roi': '5.10'}\n",
      "Источник yandex затраты и доходы рекламной компании{'revenue': 179, 'cost': 153, 'roi': '16.99'}\n"
     ]
    }
   ],
   "source": [
    "# Задание 3\n",
    "\n",
    "results = {\n",
    "'vk': {'revenue': 103, 'cost': 98},\n",
    "'yandex': {'revenue': 179, 'cost': 153},\n",
    "'facebook': {'revenue': 103, 'cost': 110},\n",
    "'adwords': {'revenue': 35, 'cost': 34},\n",
    "'twitter': {'revenue': 11, 'cost': 24},\n",
    "}\n",
    "for key, value in (results.items()):\n",
    "    if value:\n",
    "        roi = (value['revenue'] / value['cost'] - 1)*100\n",
    "        value ['roi'] = '{0:.2f}'.format(roi)\n",
    "\n",
    "for key, value in sorted(results.items(), key=lambda val: val[0]):\n",
    "    print(f'Источник {key} затраты и доходы рекламной компании{value}')\n"
   ]
  },
  {
   "cell_type": "code",
   "execution_count": 137,
   "metadata": {},
   "outputs": [
    {
     "data": {
      "text/plain": [
       "{'vk': 120}"
      ]
     },
     "execution_count": 137,
     "metadata": {},
     "output_type": "execute_result"
    }
   ],
   "source": [
    "# Задание 4\n",
    "stats = {'facebook': 55, 'yandex': 115, 'vk': 120, 'google': 99, 'email': 42, 'ok': 98}\n",
    "res = {}\n",
    "for key, value in stats.items():\n",
    "    if value == (max(list(stats.values()))):\n",
    "        res[key] = value\n",
    "res"
   ]
  }
 ],
 "metadata": {
  "kernelspec": {
   "display_name": "Python 3",
   "language": "python",
   "name": "python3"
  },
  "language_info": {
   "codemirror_mode": {
    "name": "ipython",
    "version": 3
   },
   "file_extension": ".py",
   "mimetype": "text/x-python",
   "name": "python",
   "nbconvert_exporter": "python",
   "pygments_lexer": "ipython3",
   "version": "3.8.3"
  }
 },
 "nbformat": 4,
 "nbformat_minor": 4
}
