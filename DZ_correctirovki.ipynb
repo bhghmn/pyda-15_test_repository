{
 "cells": [
  {
   "cell_type": "code",
   "execution_count": 162,
   "metadata": {},
   "outputs": [
    {
     "name": "stdout",
     "output_type": "stream",
     "text": [
      "Поисковых запросов, содержащих 3 слова 57.14 % \n",
      "Поисковых запросов, содержащих 2 слова 42.86 % \n"
     ]
    }
   ],
   "source": [
    "# Задание 2\n",
    "\n",
    "queries = [\n",
    "'смотреть сериалы онлайн',\n",
    "'новости спорта',\n",
    "'афиша кино',\n",
    "'курс доллара',\n",
    "'сериалы этим летом',\n",
    "'курс по питону',\n",
    "'сериалы про спорт'\n",
    "       ]\n",
    "\n",
    "res = {}\n",
    "for element in queries:\n",
    "    if len(element.split(' ')) not in res:\n",
    "        res[len(element.split(' '))] = 1\n",
    "    else:\n",
    "        res[len(element.split(' '))] += 1\n",
    "for k,v in res.items():\n",
    "    print(f'Поисковых запросов, содержащих {k} слова {(v / sum(res.values())) * 100:.4} % ')    "
   ]
  },
  {
   "cell_type": "code",
   "execution_count": 67,
   "metadata": {},
   "outputs": [
    {
     "name": "stdout",
     "output_type": "stream",
     "text": [
      "{98, 35, 15, 213, 54, 119}\n"
     ]
    }
   ],
   "source": [
    "# Задание 1\n",
    "\n",
    "ids = {'user1':[213, 213, 213, 15, 213],\n",
    "       'user2':[54, 54, 119, 119, 119],\n",
    "       'user3':[213, 98, 98, 35]}\n",
    "\n",
    "print(set(sum(ids.values(), [])))\n",
    "# ids_new = []\n",
    "# for element in ids.values():\n",
    "#     ids_new += element\n",
    "# print (set(ids_new))"
   ]
  }
 ],
 "metadata": {
  "kernelspec": {
   "display_name": "Python 3",
   "language": "python",
   "name": "python3"
  },
  "language_info": {
   "codemirror_mode": {
    "name": "ipython",
    "version": 3
   },
   "file_extension": ".py",
   "mimetype": "text/x-python",
   "name": "python",
   "nbconvert_exporter": "python",
   "pygments_lexer": "ipython3",
   "version": "3.8.3"
  }
 },
 "nbformat": 4,
 "nbformat_minor": 4
}
