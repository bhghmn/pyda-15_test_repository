{
 "cells": [
  {
   "cell_type": "code",
   "execution_count": 31,
   "metadata": {},
   "outputs": [
    {
     "name": "stdout",
     "output_type": "stream",
     "text": [
      "0 {\"user_id\": \"user_id\", \"category\": \"category\"}\n",
      "\n",
      "1 {\"user_id\": \"1840e0b9d4\", \"category\": \"РџСЂРѕРґСѓРєС‚С‹\"}\n",
      "\n",
      "2 {\"user_id\": \"4e4f90fcfb\", \"category\": \"Р­Р»РµРєС‚СЂРѕРЅРёРєР°\"}\n",
      "\n",
      "3 {\"user_id\": \"afea8d72fc\", \"category\": \"Р­Р»РµРєС‚СЂРѕРЅРёРєР°\"}\n",
      "\n",
      "4 {\"user_id\": \"373a6055fe\", \"category\": \"Р‘С‹С‚РѕРІР°СЏ С‚РµС…РЅРёРєР°\"}\n",
      "\n",
      "5 {\"user_id\": \"9b2ab046f3\", \"category\": \"Р­Р»РµРєС‚СЂРѕРЅРёРєР°\"}\n",
      "\n",
      "6 {\"user_id\": \"9f39d307c3\", \"category\": \"Р­Р»РµРєС‚СЂРѕРЅРёРєР°\"}\n",
      "\n"
     ]
    }
   ],
   "source": [
    "f = open('purchase_log.txt', 'r')\n",
    "for i, line in enumerate(f):\n",
    "    print (i, line)\n",
    "    if i > 5:\n",
    "        break           "
   ]
  },
  {
   "cell_type": "code",
   "execution_count": 63,
   "metadata": {},
   "outputs": [],
   "source": [
    "import json"
   ]
  },
  {
   "cell_type": "code",
   "execution_count": 69,
   "metadata": {},
   "outputs": [
    {
     "name": "stdout",
     "output_type": "stream",
     "text": [
      "{'user_id': 'category', '1840e0b9d4': 'РџСЂРѕРґСѓРєС‚С‹', '4e4f90fcfb': 'Р\\xadР»РµРєС‚СЂРѕРЅРёРєР°', 'afea8d72fc': 'Р\\xadР»РµРєС‚СЂРѕРЅРёРєР°', '373a6055fe': 'Р‘С‹С‚РѕРІР°СЏ С‚РµС…РЅРёРєР°', '9b2ab046f3': 'Р\\xadР»РµРєС‚СЂРѕРЅРёРєР°', '9f39d307c3': 'Р\\xadР»РµРєС‚СЂРѕРЅРёРєР°'}\n"
     ]
    }
   ],
   "source": [
    "# Задание 1\n",
    "res = {}\n",
    "with open('purchase_log.txt', 'r') as f:\n",
    "    for i, line in enumerate(f):\n",
    "        dict_ = json.loads(line)\n",
    "        res[dict_['user_id']] = dict_['category']\n",
    "        if i > 5:\n",
    "            break\n",
    "print(res)"
   ]
  },
  {
   "cell_type": "code",
   "execution_count": 173,
   "metadata": {},
   "outputs": [],
   "source": [
    "# Задание 2\n",
    "\n",
    "with open('visit_log.csv', 'r') as f:\n",
    "     with open('funnel.csv', 'w') as f2write:\n",
    "        for line in f:\n",
    "            line = line.strip()\n",
    "            user_id = line.split(',')[0] \n",
    "            if user_id in res: \n",
    "                 f2write.write(f'{line},{res[user_id]}\\n')"
   ]
  },
  {
   "cell_type": "code",
   "execution_count": 174,
   "metadata": {},
   "outputs": [
    {
     "name": "stdout",
     "output_type": "stream",
     "text": [
      "0 user_id,source,category\n",
      "\n",
      "1 1840e0b9d4,other,РџСЂРѕРґСѓРєС‚С‹\n",
      "\n",
      "2 4e4f90fcfb,context,Р­Р»РµРєС‚СЂРѕРЅРёРєР°\n",
      "\n",
      "3 afea8d72fc,other,Р­Р»РµРєС‚СЂРѕРЅРёРєР°\n",
      "\n",
      "4 373a6055fe,other,Р‘С‹С‚РѕРІР°СЏ С‚РµС…РЅРёРєР°\n",
      "\n",
      "5 9b2ab046f3,other,Р­Р»РµРєС‚СЂРѕРЅРёРєР°\n",
      "\n",
      "6 9f39d307c3,context,Р­Р»РµРєС‚СЂРѕРЅРёРєР°\n",
      "\n"
     ]
    }
   ],
   "source": [
    "f = open('funnel.csv', 'r')\n",
    "for i, line in enumerate(f):\n",
    "    print (i, line)\n",
    "    if i > 5:\n",
    "        break "
   ]
  }
 ],
 "metadata": {
  "kernelspec": {
   "display_name": "Python 3",
   "language": "python",
   "name": "python3"
  },
  "language_info": {
   "codemirror_mode": {
    "name": "ipython",
    "version": 3
   },
   "file_extension": ".py",
   "mimetype": "text/x-python",
   "name": "python",
   "nbconvert_exporter": "python",
   "pygments_lexer": "ipython3",
   "version": "3.8.3"
  }
 },
 "nbformat": 4,
 "nbformat_minor": 4
}
